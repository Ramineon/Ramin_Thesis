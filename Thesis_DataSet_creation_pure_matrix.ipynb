{
 "cells": [
  {
   "metadata": {},
   "cell_type": "code",
   "source": [
    "import os\n",
    "import torch\n",
    "import numpy as np\n",
    "import pandas as pd"
   ],
   "outputs": [],
   "execution_count": null
  },
  {
   "metadata": {},
   "cell_type": "code",
   "source": [
    "class RecurrencePlot:\n",
    "    def __init__(self, input_address, output_address, iteration=0, window_size=160, start=0, end_point=24960,\n",
    "                 color=\"rainbow\",\n",
    "                 res=1024):\n",
    "        self.input_address = input_address\n",
    "        self.output_address = output_address\n",
    "        self.window_size = window_size\n",
    "        self.start = start\n",
    "        self.end_point = end_point\n",
    "        self.chunks_dict = {}\n",
    "        self.color = color\n",
    "        self.res = res\n",
    "        self.iteration = iteration\n",
    "        self.load_data()\n",
    "        self.Saveon()\n",
    "\n",
    "    def recurrence_plot_magnitude(self, A):\n",
    "        N = len(A)\n",
    "        distance_matrix = np.zeros((N, N))\n",
    "        for i in range(N):\n",
    "            for j in range(N):\n",
    "                distance_matrix[i, j] = np.abs(A[i] - A[j])\n",
    "        return distance_matrix\n",
    "\n",
    "    def load_data(self):\n",
    "        chunks_dict = {}\n",
    "        address = self.input_address\n",
    "        pre_df = pd.read_csv(address)\n",
    "        df = pre_df.iloc[15:, [1, 3, 5]].values.astype(float)\n",
    "        df = df[:, 0]\n",
    "        for i in range(self.start, self.end_point, self.window_size):\n",
    "            chunks_dict[i // self.window_size] = df[i:i + self.window_size]\n",
    "        self.chunks_dict = chunks_dict\n",
    "        os.makedirs(self.output_address, exist_ok=True)\n",
    "\n",
    "    def Saveon(self):\n",
    "        os.makedirs(self.output_address, exist_ok=True)  # Ensure output directory exists\n",
    "\n",
    "        for key, chunk in self.chunks_dict.items():\n",
    "            # Generate the recurrence plot (distance matrix)\n",
    "            matrix = self.recurrence_plot_magnitude(chunk)\n",
    "\n",
    "            # Convert the matrix to a PyTorch tensor\n",
    "            tensor = torch.tensor(matrix, dtype=torch.float32)\n",
    "\n",
    "            # Construct filename with iteration and input file name for clarity\n",
    "            base_filename = os.path.basename(self.input_address).replace('.csv', '')\n",
    "            filename_tensor = f'{base_filename}_iter{key + self.iteration}.pt'\n",
    "            full_path_tensor = os.path.join(self.output_address, filename_tensor)\n",
    "\n",
    "            # Save the tensor and handle errors\n",
    "            try:\n",
    "                torch.save(tensor, full_path_tensor)\n",
    "                print(f\"Saved PyTorch tensor: {full_path_tensor}, Tensor shape: {tensor.shape}\")\n",
    "            except Exception as e:\n",
    "                print(f\"Error saving tensor for chunk {key}: {e}\")"
   ],
   "outputs": [],
   "execution_count": null
  },
  {
   "metadata": {},
   "cell_type": "code",
   "source": [
    "directory_out = r\"F:\\TheLis\\1\"\n",
    "directory_in = r\"F:\\Thesis\\Data Set\\Machin_Train_URF\\Machin_Train_URF\\0\\1420\"\n",
    "limit, count = 8, 0\n",
    "iteration = 0\n",
    "\n",
    "for filename in sorted(os.listdir(directory_in)):\n",
    "    if filename.endswith(\".CSV\") or filename.endswith(\".csv\"):  # Ensure only CSV files are processed\n",
    "        if count == limit:\n",
    "            break\n",
    "        input_file_path = os.path.join(directory_in, filename)  # Create full path for each file\n",
    "        RecurrencePlot(input_file_path, directory_out, iteration=iteration)\n",
    "\n",
    "        count += 1\n",
    "        iteration = count * 156\n",
    "        print(input_file_path)"
   ],
   "outputs": [],
   "execution_count": null
  }
 ],
 "metadata": {
  "kernelspec": {
   "display_name": "venv",
   "language": "python",
   "name": "python3"
  },
  "language_info": {
   "name": "python",
   "version": "3.12.3"
  }
 },
 "nbformat": 4,
 "nbformat_minor": 2
}
