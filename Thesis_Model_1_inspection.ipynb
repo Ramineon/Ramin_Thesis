{
 "cells": [
  {
   "metadata": {},
   "cell_type": "markdown",
   "source": [
    "# Model 1 (simplest)\n",
    "\n",
    "This is simple CNN Model for training on Rp image's"
   ],
   "id": "a5a1961ba1d27f05"
  },
  {
   "metadata": {},
   "cell_type": "markdown",
   "source": "## initiation",
   "id": "f520124c446ce9d6"
  },
  {
   "metadata": {
    "collapsed": true
   },
   "cell_type": "code",
   "outputs": [],
   "execution_count": null,
   "source": [
    "\"\"\"\n",
    "from Prop.9 simple CNN\n",
    "\"\"\"\n",
    "\n",
    "from torchvision import datasets, transforms\n",
    "from torch.utils.data import DataLoader, random_split\n",
    "\n",
    "# Define the transformations for both training and test data\n",
    "transform = transforms.Compose([\n",
    "    transforms.Resize((224, 224)),       # Resize images to 224x224 for VGG16\n",
    "    transforms.ToTensor(),               # Convert images to PyTorch tensors\n",
    "    transforms.Normalize(mean=[0.485, 0.456, 0.406],\n",
    "                         std=[0.229, 0.224, 0.225])  # Normalize for pre-trained models\n",
    "])\n",
    "patheon = r\"F:\\Thesis\\data\"\n",
    "# Load the dataset\n",
    "dataset = datasets.ImageFolder(root=patheon, transform=transform)\n",
    "\n",
    "# Define the train/test split ratio\n",
    "train_size = int(0.85 * len(dataset))\n",
    "test_size = len(dataset) - train_size\n",
    "\n",
    "# Randomly split the dataset\n",
    "train_dataset, test_dataset = random_split(dataset, [train_size, test_size])\n",
    "\n",
    "# Define DataLoaders for both training and test sets\n",
    "train_loader = DataLoader(train_dataset, batch_size=32, shuffle=True)\n",
    "test_loader = DataLoader(test_dataset, batch_size=32, shuffle=False)"
   ],
   "id": "initial_id"
  }
 ],
 "metadata": {
  "kernelspec": {
   "display_name": "Python 3",
   "language": "python",
   "name": "python3"
  },
  "language_info": {
   "codemirror_mode": {
    "name": "ipython",
    "version": 2
   },
   "file_extension": ".py",
   "mimetype": "text/x-python",
   "name": "python",
   "nbconvert_exporter": "python",
   "pygments_lexer": "ipython2",
   "version": "2.7.6"
  }
 },
 "nbformat": 4,
 "nbformat_minor": 5
}
